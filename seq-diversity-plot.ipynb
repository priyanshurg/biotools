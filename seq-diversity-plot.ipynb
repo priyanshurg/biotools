{
 "cells": [
  {
   "cell_type": "code",
   "execution_count": null,
   "metadata": {},
   "outputs": [],
   "source": [
    "\"\"\"\n",
    "Author: Priyanshu R Gupta\n",
    "Date: 06/13/2024\n",
    "\n",
    "Description:\n",
    "This script reads in a fasta file containing the sequences generated using ProteinMPNN (or any other fasta dataset) \n",
    "and plots a heatmap showing the frequency of each amino acid at each position in the sequences.\n",
    "\n",
    "Usage:\n",
    "python3 seq-diversity-plot.py <filename>\n",
    "\n",
    "Dependencies:\n",
    "numpy, pandas, matplotlib, seaborn, questionary, os, argparse\n",
    "\n",
    "Example:\n",
    "python3 seq-diversity-plot.py sequences.fasta\n",
    "\n",
    "\"\"\"\n",
    "import numpy as np\n",
    "import pandas as pd\n",
    "import matplotlib.pyplot as plt\n",
    "import seaborn as sns\n",
    "import questionary\n",
    "import os\n",
    "import argparse\n",
    "\n",
    "\n",
    "# DEFINING THE DRIVER FUNCTIONS\n",
    "def read_fasta(filename):\n",
    "    with open(filename,\"r\") as file:\n",
    "        lines = file.readlines()\n",
    "    return lines\n",
    "\n",
    "def get_sequences(lines):\n",
    "    sequences = []\n",
    "    for line in lines:\n",
    "        if line[0] != \">\":\n",
    "            sequences.append(line.strip())\n",
    "    sequence_length = len(sequences[0])\n",
    "    return sequences, sequence_length\n",
    "\n",
    "def defining_amino_acids():\n",
    "    amino_acids = list(\"ACDEFGHIKLMNPQRSTVWY\")\n",
    "    return amino_acids\n",
    "\n",
    "def get_occurences_in_a_dataframe(sequences, sequence_length, amino_acids):\n",
    "    df = pd.DataFrame([list(seq) for seq in sequences])\n",
    "    occurrences = pd.DataFrame(0, index=amino_acids, columns=range(sequence_length))\n",
    "    for i in range(sequence_length):\n",
    "        occurrences[i] = df[i].value_counts()\n",
    "    return occurrences\n",
    "\n"
   ]
  },
  {
   "cell_type": "code",
   "execution_count": null,
   "metadata": {},
   "outputs": [],
   "source": [
    "filename = \"/Users/pg13/Desktop/Workspace/Iowa-Stuff/ATF4/outputs/multi-chain-outputs/T0-1/seqs/1ci6.fa\"\n",
    "lines = read_fasta(filename)\n",
    "sequences, sequence_length = get_sequences(lines)\n",
    "list_of_amino_acids = defining_amino_acids()\n",
    "occurences = get_occurences_in_a_dataframe(sequences, sequence_length, list_of_amino_acids)"
   ]
  },
  {
   "cell_type": "code",
   "execution_count": null,
   "metadata": {},
   "outputs": [],
   "source": [
    "# Plotting the heatmap\n",
    "plt.figure(figsize=(15, 8))\n",
    "sns.heatmap(occurences, cmap='viridis', cbar=True, linewidths=.5, linecolor='black')\n",
    "plt.title('Frequency of Amino Acids at Each Position in Sequences')\n",
    "plt.xlabel('Index Position')\n",
    "plt.ylabel('Amino Acid')\n",
    "plt.show()\n",
    "plt.savefig(\"heatmap.png\")"
   ]
  }
 ],
 "metadata": {
  "kernelspec": {
   "display_name": "base",
   "language": "python",
   "name": "python3"
  },
  "language_info": {
   "codemirror_mode": {
    "name": "ipython",
    "version": 3
   },
   "file_extension": ".py",
   "mimetype": "text/x-python",
   "name": "python",
   "nbconvert_exporter": "python",
   "pygments_lexer": "ipython3",
   "version": "3.11.8"
  }
 },
 "nbformat": 4,
 "nbformat_minor": 2
}
